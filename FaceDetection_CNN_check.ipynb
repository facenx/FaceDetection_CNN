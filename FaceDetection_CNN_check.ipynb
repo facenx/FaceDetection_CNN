{
 "cells": [
  {
   "cell_type": "code",
   "execution_count": 1,
   "metadata": {
    "collapsed": true
   },
   "outputs": [],
   "source": [
    "import caffe"
   ]
  },
  {
   "cell_type": "code",
   "execution_count": 2,
   "metadata": {
    "collapsed": true
   },
   "outputs": [],
   "source": [
    "net = caffe.Net('./model/face_full_conv2.prototxt',\n",
    "                './model/face_full_conv.caffemodel',\n",
    "                caffe.TEST)"
   ]
  },
  {
   "cell_type": "code",
   "execution_count": 24,
   "metadata": {
    "collapsed": false
   },
   "outputs": [
    {
     "data": {
      "text/plain": [
       "True"
      ]
     },
     "execution_count": 24,
     "metadata": {},
     "output_type": "execute_result"
    }
   ],
   "source": [
    "import numpy as np\n",
    "\n",
    "np.alltrue(net.params['fc8-conv'][0].data == 0.)"
   ]
  },
  {
   "cell_type": "code",
   "execution_count": 20,
   "metadata": {
    "collapsed": false
   },
   "outputs": [
    {
     "data": {
      "text/plain": [
       "True"
      ]
     },
     "execution_count": 20,
     "metadata": {},
     "output_type": "execute_result"
    }
   ],
   "source": [
    "np.alltrue(net.params['fc6-conv'][1].data == 0.)"
   ]
  },
  {
   "cell_type": "code",
   "execution_count": 22,
   "metadata": {
    "collapsed": false
   },
   "outputs": [
    {
     "data": {
      "text/plain": [
       "OrderedDict([('data', <caffe._caffe.Blob at 0x7f912c655050>),\n",
       "             ('conv1', <caffe._caffe.Blob at 0x7f912c6550c8>),\n",
       "             ('pool1', <caffe._caffe.Blob at 0x7f912c655140>),\n",
       "             ('norm1', <caffe._caffe.Blob at 0x7f912c6551b8>),\n",
       "             ('conv2', <caffe._caffe.Blob at 0x7f912c655230>),\n",
       "             ('pool2', <caffe._caffe.Blob at 0x7f912c6552a8>),\n",
       "             ('norm2', <caffe._caffe.Blob at 0x7f912c655320>),\n",
       "             ('conv3', <caffe._caffe.Blob at 0x7f912c655398>),\n",
       "             ('conv4', <caffe._caffe.Blob at 0x7f912c655410>),\n",
       "             ('conv5', <caffe._caffe.Blob at 0x7f912c655488>),\n",
       "             ('pool5', <caffe._caffe.Blob at 0x7f912c655500>),\n",
       "             ('fc6-conv', <caffe._caffe.Blob at 0x7f912c655578>),\n",
       "             ('fc7-conv', <caffe._caffe.Blob at 0x7f912c6555f0>),\n",
       "             ('fc8-conv', <caffe._caffe.Blob at 0x7f912c655668>),\n",
       "             ('prob', <caffe._caffe.Blob at 0x7f912c6556e0>)])"
      ]
     },
     "execution_count": 22,
     "metadata": {},
     "output_type": "execute_result"
    }
   ],
   "source": [
    "net.blobs"
   ]
  }
 ],
 "metadata": {
  "kernelspec": {
   "display_name": "Python 2",
   "language": "python",
   "name": "python2"
  },
  "language_info": {
   "codemirror_mode": {
    "name": "ipython",
    "version": 2
   },
   "file_extension": ".py",
   "mimetype": "text/x-python",
   "name": "python",
   "nbconvert_exporter": "python",
   "pygments_lexer": "ipython2",
   "version": "2.7.11"
  }
 },
 "nbformat": 4,
 "nbformat_minor": 0
}
